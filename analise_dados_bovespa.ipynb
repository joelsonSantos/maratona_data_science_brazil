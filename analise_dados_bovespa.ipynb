{
 "cells": [
  {
   "cell_type": "code",
   "execution_count": 1,
   "metadata": {},
   "outputs": [],
   "source": [
    "# Criado por Joelson Antônio dos Santos em 04 de Janeiro de 2019.\n",
    "# Préprocessamento de dados do Bovespa disponibilizados no site: https://goo.gl/QNwqJN \n",
    "# Notebook em criação. Até o momento, o código abaixo é uma transformação de dados \n",
    "# não estruturados em dados estruturados. O próximo passo será apresentar análises \n",
    "# estatísticas dos mesmos (Soon!).\n",
    "\n",
    "import numpy as np\n",
    "import pandas as pd\n",
    "\n",
    "path = \"COTAHIST_A\"\n",
    "dataset = pd.read_csv(path + \"2003.TXT\") # exemplo de dataset \"não estruturado\" (arquivo no repositório)\n",
    "# abre arquivo para escrita (linha a linha dos dados estruturados)\n",
    "file  = open('output_2003.csv', 'w')\n",
    "file.write(\" \".join(str(x) for x in ['id', 'tipReg', 'dataPreg', 'codBdi', 'codNeg'\n",
    "                          'tpMerc', 'nomRes', 'espPap', 'prazoT', 'modRef',\n",
    "                          'preAbe', 'preMax', 'preMin', 'preMed', 'preUlt',\n",
    "                          'preOfc', 'preOfv', 'totNeg', 'quaTot', 'volTot',\n",
    "                          'preExe', 'indopc', 'datVen', 'fatCot', 'ptoExe',\n",
    "                          'codIsi', 'disMes']))\n",
    "file.write(\"\\n\")\n",
    "for line in range(0, len(dataset)):\n",
    "    string = \" \".join(str(x) for x in dataset.iloc[line].str.split(\" \")[0])\n",
    "    tipReg = string[0:2]\n",
    "    dataPreg = string[2:10]\n",
    "    codBdi = string[10:12]\n",
    "    codNeg = string[12:24]\n",
    "    tpMerc = string[24:27]\n",
    "    nomRes = string[27:39]\n",
    "    nomRes = '_'.join(nomRes.split())\n",
    "    espPap = string[39:49]\n",
    "    espPap = '_'.join(espPap.split())\n",
    "    if ' ' not in string[49:52]:\n",
    "        prazoT = string[49:52]\n",
    "    else:\n",
    "        prazoT = '0'\n",
    "    #prazoT = string[49:52]\n",
    "    modRef = string[52:56]\n",
    "    preAbe = string[56:69]\n",
    "    preMax = string[69:82]\n",
    "    preMin = string[82:95]\n",
    "    preMed = string[95:108]\n",
    "    preUlt = string[108:121]\n",
    "    preOfc = string[121:134]\n",
    "    preOfv = string[134:147]\n",
    "    totNeg = string[147:152]\n",
    "    quaTot = string[152:170]\n",
    "    volTot = string[170:188]\n",
    "    preExe = string[188:201]\n",
    "    indopc = string[201:202]\n",
    "    datVen = string[202:210]\n",
    "    fatCot = string[210:217]\n",
    "    ptoExe = string[217:230]\n",
    "    codIsi = string[230:242]\n",
    "    disMes = string[242:245]\n",
    "    L = [tipReg, dataPreg, codBdi, codNeg, tpMerc, nomRes, espPap, prazoT, modRef, preAbe, preMax, preMin, preMed, preUlt, preOfc, preOfv, totNeg, quaTot, volTot, preExe, indopc, datVen, fatCot, ptoExe, codIsi, disMes]\n",
    "    row = ' '.join(str(x) for x in L)\n",
    "    row = ' '.join(row.split())\n",
    "    file.write(row + \"\\n\")\n",
    "file.close()\n",
    "# abre arquivo criado (dados estruturados)\n",
    "df = pd.read_csv('output_2003.csv', sep=\" \", low_memory=False)"
   ]
  },
  {
   "cell_type": "code",
   "execution_count": 2,
   "metadata": {},
   "outputs": [
    {
     "data": {
      "text/plain": [
       "Index(['id', 'tipReg', 'dataPreg', 'codBdi', 'codNegtpMerc', 'nomRes',\n",
       "       'espPap', 'prazoT', 'modRef', 'preAbe', 'preMax', 'preMin', 'preMed',\n",
       "       'preUlt', 'preOfc', 'preOfv', 'totNeg', 'quaTot', 'volTot', 'preExe',\n",
       "       'indopc', 'datVen', 'fatCot', 'ptoExe', 'codIsi', 'disMes'],\n",
       "      dtype='object')"
      ]
     },
     "metadata": {},
     "output_type": "display_data"
    }
   ],
   "source": [
    "display(df.columns)"
   ]
  },
  {
   "cell_type": "code",
   "execution_count": 63,
   "metadata": {},
   "outputs": [
    {
     "data": {
      "image/png": "[encoded data removed]",
      "text/plain": [
       "<Figure size 432x288 with 1 Axes>"
      ]
     },
     "metadata": {
      "needs_background": "light"
     },
     "output_type": "display_data"
    }
   ],
   "source": [
    "cluster_means = (df.groupby(['nomRes'], as_index=False).mean()\n",
    "                 .groupby('nomRes')['preAbe', 'preMin', 'preMax', 'preUlt'].mean()).dropna()\n",
    "# exemplo de plot com relação aos preços de abertura, preços mínimos, máximos e de fechamento \n",
    "# de algumas empresas (seis primeiras do conjunto de dados)\n",
    "ax = cluster_means[1:6:].plot.bar(rot=45)"
   ]
  },
  {
   "cell_type": "code",
   "execution_count": null,
   "metadata": {},
   "outputs": [],
   "source": []
  },
  {
   "cell_type": "code",
   "execution_count": null,
   "metadata": {},
   "outputs": [],
   "source": []
  },
  {
   "cell_type": "code",
   "execution_count": null,
   "metadata": {},
   "outputs": [],
   "source": []
  },
  {
   "cell_type": "code",
   "execution_count": null,
   "metadata": {},
   "outputs": [],
   "source": []
  }
 ],
 "metadata": {
  "kernelspec": {
   "display_name": "Python 3",
   "language": "python",
   "name": "python3"
  },
  "language_info": {
   "codemirror_mode": {
    "name": "ipython",
    "version": 3
   },
   "file_extension": ".py",
   "mimetype": "text/x-python",
   "name": "python",
   "nbconvert_exporter": "python",
   "pygments_lexer": "ipython3",
   "version": "3.7.0"
  }
 },
 "nbformat": 4,
 "nbformat_minor": 2
}
