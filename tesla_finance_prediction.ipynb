{
 "cells": [
  {
   "cell_type": "code",
   "execution_count": 31,
   "metadata": {},
   "outputs": [
    {
     "name": "stdout",
     "output_type": "stream",
     "text": [
      "Score:  1.0\n",
      "MSE:  6.4628218539844955\n",
      "Min difference:  1.6711667820810411e-06\n",
      "Max difference:  82.03877018919893\n",
      "Standard Deviation of the difference:  11.709877983428372\n"
     ]
    },
    {
     "name": "stderr",
     "output_type": "stream",
     "text": [
      "/home/joelson/anaconda3/lib/python3.7/site-packages/ipykernel_launcher.py:12: FutureWarning: convert_objects is deprecated.  To re-infer data dtypes for object columns, use DataFrame.infer_objects()\n",
      "For all other conversions use the data-type specific converters pd.to_datetime, pd.to_timedelta and pd.to_numeric.\n",
      "  if sys.path[0] == '':\n"
     ]
    }
   ],
   "source": [
    "import pandas as pd\n",
    "import numpy as np\n",
    "\n",
    "from sklearn.model_selection import train_test_split\n",
    "\n",
    "from sklearn.linear_model import LinearRegression\n",
    "\n",
    "dataset = pd.read_csv(\"../tesla.csv\")\n",
    "dataset = dataset.apply(lambda x: x.str.replace(',','.'))\n",
    "dataset = dataset.apply(lambda x: x.str.replace('M', ''))\n",
    "dataset = dataset.apply(lambda x: x.str.replace('%', ''))\n",
    "dataset = dataset.convert_objects(convert_numeric=True).dropna()\n",
    "classes = np.array(dataset['Último'])\n",
    "dataset = dataset.drop(['Data', 'Var%', 'Último'], axis=1)\n",
    "X_train, X_test, y_train, y_test = train_test_split(dataset, classes, random_state=0)\n",
    "model =  LinearRegression().fit(X_train, y_train)\n",
    "y_pred = model.predict(X_test)\n",
    "print(\"Score: \", model.score(X_test, y_pred))\n",
    "print(\"MSE: \", (np.sum((y_pred - y_test)**2)) / len(y_pred))\n",
    "print(\"Min difference: \", np.min((y_pred - y_test)**2))\n",
    "print(\"Max difference: \", np.max((y_pred - y_test)**2))\n",
    "print(\"Standard Deviation of the difference: \", np.std((y_pred - y_test)**2))"
   ]
  },
  {
   "cell_type": "code",
   "execution_count": null,
   "metadata": {},
   "outputs": [],
   "source": []
  },
  {
   "cell_type": "code",
   "execution_count": null,
   "metadata": {},
   "outputs": [],
   "source": []
  },
  {
   "cell_type": "code",
   "execution_count": null,
   "metadata": {},
   "outputs": [],
   "source": []
  }
 ],
 "metadata": {
  "kernelspec": {
   "display_name": "Python 3",
   "language": "python",
   "name": "python3"
  },
  "language_info": {
   "codemirror_mode": {
    "name": "ipython",
    "version": 3
   },
   "file_extension": ".py",
   "mimetype": "text/x-python",
   "name": "python",
   "nbconvert_exporter": "python",
   "pygments_lexer": "ipython3",
   "version": "3.7.0"
  }
 },
 "nbformat": 4,
 "nbformat_minor": 2
}
