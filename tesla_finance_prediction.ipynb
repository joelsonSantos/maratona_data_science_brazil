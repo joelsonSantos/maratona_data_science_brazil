{
 "cells": [
  {
   "cell_type": "code",
   "execution_count": 11,
   "metadata": {},
   "outputs": [
    {
     "name": "stderr",
     "output_type": "stream",
     "text": [
      "/home/joelson/anaconda3/lib/python3.7/site-packages/ipykernel_launcher.py:12: FutureWarning: convert_objects is deprecated.  To re-infer data dtypes for object columns, use DataFrame.infer_objects()\n",
      "For all other conversions use the data-type specific converters pd.to_datetime, pd.to_timedelta and pd.to_numeric.\n",
      "  if sys.path[0] == '':\n"
     ]
    },
    {
     "name": "stdout",
     "output_type": "stream",
     "text": [
      "Score:  1.0\n"
     ]
    }
   ],
   "source": [
    "import pandas as pd\n",
    "import numpy as np\n",
    "\n",
    "from sklearn.model_selection import train_test_split\n",
    "\n",
    "from sklearn.linear_model import LinearRegression\n",
    "\n",
    "dataset = pd.read_csv(\"/home/joelson/Dropbox/Kaggle/datasets/Tesla/tesla.csv\")\n",
    "dataset = dataset.apply(lambda x: x.str.replace(',','.'))\n",
    "dataset = dataset.apply(lambda x: x.str.replace('M', ''))\n",
    "dataset = dataset.apply(lambda x: x.str.replace('%', ''))\n",
    "dataset = dataset.convert_objects(convert_numeric=True).dropna()\n",
    "classes = np.array(dataset['Último'])\n",
    "dataset = dataset.drop(['Data', 'Var%', 'Último'], axis=1)\n",
    "X_train, X_test, y_train, y_test = train_test_split(dataset, classes, random_state=0)\n",
    "model =  LinearRegression().fit(X_train, y_train)\n",
    "y_pred = model.predict(X_test)\n",
    "print(\"Score: \", model.score(X_test, y_pred))"
   ]
  },
  {
   "cell_type": "code",
   "execution_count": 5,
   "metadata": {},
   "outputs": [
    {
     "name": "stdout",
     "output_type": "stream",
     "text": [
      "0      334.96\n",
      "1      317.69\n",
      "2      300.36\n",
      "3      310.12\n",
      "4      332.80\n",
      "5      333.87\n",
      "6      316.13\n",
      "7      326.09\n",
      "8      295.39\n",
      "9      319.77\n",
      "10     315.38\n",
      "11     332.97\n",
      "12     337.03\n",
      "13     348.42\n",
      "14     365.71\n",
      "15     376.79\n",
      "16     366.60\n",
      "17     366.76\n",
      "18     365.15\n",
      "19     357.96\n",
      "20     363.06\n",
      "21     359.70\n",
      "22     358.49\n",
      "23     350.48\n",
      "24     341.17\n",
      "25     347.87\n",
      "26     343.92\n",
      "27     346.00\n",
      "28     325.83\n",
      "29     338.19\n",
      "        ...  \n",
      "747    198.70\n",
      "748    204.72\n",
      "749    204.99\n",
      "750    206.18\n",
      "751    200.31\n",
      "752    209.97\n",
      "753    207.85\n",
      "754    211.00\n",
      "755    215.65\n",
      "756    219.04\n",
      "757    223.43\n",
      "758    223.41\n",
      "759    240.01\n",
      "760    238.09\n",
      "761    237.19\n",
      "762    228.95\n",
      "763    230.57\n",
      "764    229.70\n",
      "765    229.95\n",
      "766    232.56\n",
      "767    230.46\n",
      "768    233.39\n",
      "769    234.51\n",
      "770    221.09\n",
      "771    218.58\n",
      "772    217.02\n",
      "773    227.07\n",
      "774    224.52\n",
      "775    226.72\n",
      "776    231.13\n",
      "Name: Último, Length: 777, dtype: object\n"
     ]
    }
   ],
   "source": []
  },
  {
   "cell_type": "code",
   "execution_count": null,
   "metadata": {},
   "outputs": [],
   "source": []
  }
 ],
 "metadata": {
  "kernelspec": {
   "display_name": "Python 3",
   "language": "python",
   "name": "python3"
  },
  "language_info": {
   "codemirror_mode": {
    "name": "ipython",
    "version": 3
   },
   "file_extension": ".py",
   "mimetype": "text/x-python",
   "name": "python",
   "nbconvert_exporter": "python",
   "pygments_lexer": "ipython3",
   "version": "3.7.0"
  }
 },
 "nbformat": 4,
 "nbformat_minor": 2
}
